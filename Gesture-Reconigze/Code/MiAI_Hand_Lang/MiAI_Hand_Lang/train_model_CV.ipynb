{
  "nbformat": 4,
  "nbformat_minor": 0,
  "metadata": {
    "colab": {
      "name": "train_model_CV.ipynb",
      "provenance": [],
      "collapsed_sections": []
    },
    "kernelspec": {
      "display_name": "Python 3",
      "language": "python",
      "name": "python3"
    },
    "language_info": {
      "codemirror_mode": {
        "name": "ipython",
        "version": 3
      },
      "file_extension": ".py",
      "mimetype": "text/x-python",
      "name": "python",
      "nbconvert_exporter": "python",
      "pygments_lexer": "ipython3",
      "version": "3.6.12"
    },
    "accelerator": "GPU"
  },
  "cells": [
    {
      "cell_type": "markdown",
      "metadata": {
        "id": "QzSzLTD0UH8w"
      },
      "source": [
        "# Import"
      ]
    },
    {
      "cell_type": "code",
      "metadata": {
        "colab": {
          "base_uri": "https://localhost:8080/"
        },
        "id": "AOnh4iDTUH8w",
        "outputId": "f5858418-5c48-4b44-ba80-d5021345ce21"
      },
      "source": [
        "import os\n",
        "import warnings\n",
        "import cv2\n",
        "import keras\n",
        "import matplotlib.pyplot as plt\n",
        "import matplotlib.style as style\n",
        "import numpy as np\n",
        "import pandas as pd\n",
        "from PIL import Image\n",
        "from keras import models, layers, optimizers\n",
        "from keras.applications import VGG16\n",
        "from keras.callbacks import EarlyStopping, ModelCheckpoint\n",
        "from keras.layers import Dense, Dropout, Flatten\n",
        "from keras.models import Model\n",
        "from keras.preprocessing import image as image_utils\n",
        "from keras.preprocessing.image import ImageDataGenerator\n",
        "from keras.utils import to_categorical\n",
        "from sklearn.metrics import classification_report, confusion_matrix\n",
        "from sklearn.model_selection import train_test_split\n",
        "from PIL import ImageFile\n",
        "ImageFile.LOAD_TRUNCATED_IMAGES = True\n",
        "import datetime\n",
        "import pickle\n",
        "from matplotlib import pyplot as plt\n",
        "from keras.models import load_model\n",
        "from sklearn.metrics import confusion_matrix\n",
        "from tabulate import tabulate\n",
        "from sklearn.metrics import multilabel_confusion_matrix\n",
        "print(\"Done@\" + datetime.datetime.now().strftime(\"%Y-%m-%dT%HZ\"))"
      ],
      "execution_count": 107,
      "outputs": [
        {
          "output_type": "stream",
          "text": [
            "Done@2021-01-02T18Z\n"
          ],
          "name": "stdout"
        }
      ]
    },
    {
      "cell_type": "markdown",
      "metadata": {
        "id": "Ee51-p1wgHHi"
      },
      "source": [
        "# Use Colab ?"
      ]
    },
    {
      "cell_type": "code",
      "metadata": {
        "id": "59FYhnlXUH8m"
      },
      "source": [
        "USE_COLAB = True # change to 0 if not use colab\n",
        "RootFolder = ''\n",
        "if (USE_COLAB):\n",
        "    RootFolder = '/content/drive/MyDrive/MiAI_Hand_Lang/' # root folder tren drive\n",
        "else:\n",
        "    RootFolder = 'D:/Documents/_HOC_DAI_HOC/NAM_4/HocKi1/MachineLearning/___CuoiKi/Code/MiAI_Hand_Lang/' # root folder tren may"
      ],
      "execution_count": 2,
      "outputs": []
    },
    {
      "cell_type": "code",
      "metadata": {
        "colab": {
          "base_uri": "https://localhost:8080/",
          "height": 0
        },
        "id": "vhUzkyXVUH8v",
        "outputId": "fc03de2b-6cd7-4f62-88e7-9ea92ce64d17"
      },
      "source": [
        "if USE_COLAB:\n",
        "    from google.colab import drive\n",
        "    drive.mount('/content/drive')"
      ],
      "execution_count": 5,
      "outputs": [
        {
          "output_type": "stream",
          "text": [
            "Drive already mounted at /content/drive; to attempt to forcibly remount, call drive.mount(\"/content/drive\", force_remount=True).\n"
          ],
          "name": "stdout"
        }
      ]
    },
    {
      "cell_type": "code",
      "metadata": {
        "colab": {
          "base_uri": "https://localhost:8080/",
          "height": 0
        },
        "id": "MDwIw1jxUH8v",
        "outputId": "578a9b8e-e0b4-422d-9b51-60bbaafdd3d1"
      },
      "source": [
        "if USE_COLAB:\n",
        "    %cd $RootFolder\n",
        "    %cd ..\n",
        "print(\"Done@\" + datetime.datetime.now().strftime(\"%Y-%m-%dT%HZ\"))"
      ],
      "execution_count": 6,
      "outputs": [
        {
          "output_type": "stream",
          "text": [
            "/content/drive/MyDrive/MiAI_Hand_Lang\n",
            "/content/drive/MyDrive\n",
            "Done@2021-01-02T15Z\n"
          ],
          "name": "stdout"
        }
      ]
    },
    {
      "cell_type": "markdown",
      "metadata": {
        "id": "FOtizZPdUH8x"
      },
      "source": [
        "# Declare variable and function"
      ]
    },
    {
      "cell_type": "code",
      "metadata": {
        "colab": {
          "base_uri": "https://localhost:8080/",
          "height": 0
        },
        "id": "AbzJqahRUH8x",
        "outputId": "9f03de2e-e6e7-4c66-f32a-598699032f02"
      },
      "source": [
        "# Dinh nghia cac bien\n",
        "\n",
        "gestures = {'L_': 'L',\n",
        "           'fi': 'E',\n",
        "           'ok': 'F',\n",
        "           'pe': 'V',\n",
        "           'pa': 'B'\n",
        "            }\n",
        "\n",
        "gestures_map = {'E': 0,\n",
        "                'L': 1,\n",
        "                'F': 2,\n",
        "                'V': 3,\n",
        "                'B': 4\n",
        "                }\n",
        "\n",
        "\n",
        "gesture_names = {0: 'E',\n",
        "                 1: 'L',\n",
        "                 2: 'F',\n",
        "                 3: 'V',\n",
        "                 4: 'B'}\n",
        "\n",
        "\n",
        "image_path = RootFolder + 'data/'\n",
        "models_path = RootFolder + 'models/saved_model.hdf5'\n",
        "rgb = False\n",
        "imageSize = 224\n",
        "\n",
        "\n",
        "# Ham xu ly anh resize ve 224x224 va chuyen ve numpy array\n",
        "def process_image(path):\n",
        "    img = Image.open(path)\n",
        "    img = img.resize((imageSize, imageSize))\n",
        "    img = np.array(img)\n",
        "    return img\n",
        "\n",
        "# Xu ly du lieu dau vao\n",
        "def process_data(X_data, y_data):\n",
        "    X_data = np.array(X_data, dtype = 'float32')\n",
        "    if rgb:\n",
        "        pass\n",
        "    else:\n",
        "        X_data = np.stack((X_data,)*3, axis=-1)\n",
        "    X_data /= 255\n",
        "    y_data = np.array(y_data)\n",
        "    y_data = to_categorical(y_data)\n",
        "    return X_data, y_data\n",
        "\n",
        "# Ham duyet thu muc anh dung de train\n",
        "def walk_file_tree(image_path):\n",
        "    X_data = []\n",
        "    y_data = []\n",
        "    for directory, subdirectories, files in os.walk(image_path):\n",
        "        for file in files:\n",
        "            if not file.startswith('.'):\n",
        "                path = os.path.join(directory, file)\n",
        "                gesture_name = gestures[file[0:2]]\n",
        "                # print(gesture_name)\n",
        "                # print(gestures_map[gesture_name])\n",
        "                y_data.append(gestures_map[gesture_name])\n",
        "                X_data.append(process_image(path))\n",
        "\n",
        "            else:\n",
        "                continue\n",
        "\n",
        "    X_data, y_data = process_data(X_data, y_data)\n",
        "    return X_data, y_data\n",
        "import datetime\n",
        "print(\"Done@\" + datetime.datetime.now().strftime(\"%Y-%m-%dT%HZ\"))"
      ],
      "execution_count": 7,
      "outputs": [
        {
          "output_type": "stream",
          "text": [
            "Done@2021-01-02T15Z\n"
          ],
          "name": "stdout"
        }
      ]
    },
    {
      "cell_type": "code",
      "metadata": {
        "colab": {
          "base_uri": "https://localhost:8080/",
          "height": 0
        },
        "id": "ivlcDCxjUH8y",
        "outputId": "5e7a60b9-1e14-4528-937e-b5620a4b292a"
      },
      "source": [
        "# Load du lieu vao X va Y\n",
        "print(image_path)\n",
        "X_data, y_data = walk_file_tree(image_path)\n",
        "print(\"X_data.shape = \", X_data.shape)\n",
        "print(\"y_data.shape = \", y_data.shape)\n",
        "import datetime\n",
        "print(\"Done@\" + datetime.datetime.now().strftime(\"%Y-%m-%dT%HZ\"))"
      ],
      "execution_count": 14,
      "outputs": [
        {
          "output_type": "stream",
          "text": [
            "/content/drive/MyDrive/MiAI_Hand_Lang/data/\n",
            "X_data.shape =  (2748, 224, 224, 3)\n",
            "y_data.shape =  (2748, 5)\n",
            "Done@2021-01-02T16Z\n"
          ],
          "name": "stdout"
        }
      ]
    },
    {
      "cell_type": "markdown",
      "metadata": {
        "id": "7HEqw-Eehzth"
      },
      "source": [
        "# Initialize model"
      ]
    },
    {
      "cell_type": "code",
      "metadata": {
        "id": "h38MdTrZUH8z"
      },
      "source": [
        "# Dat cac checkpoint de luu lai model tot nhat\n",
        "model_checkpoint = ModelCheckpoint(filepath=models_path, save_best_only=True)\n",
        "early_stopping = EarlyStopping(monitor='val_accuracy',\n",
        "                               min_delta=0,\n",
        "                               patience=10,\n",
        "                               verbose=1,\n",
        "                               mode='auto',\n",
        "                               restore_best_weights=True)"
      ],
      "execution_count": 39,
      "outputs": []
    },
    {
      "cell_type": "code",
      "metadata": {
        "id": "c4bzbw92UH80"
      },
      "source": [
        "# Khoi tao model\n",
        "model1 = VGG16(weights='imagenet', include_top=False, input_shape=(imageSize, imageSize, 3))\n",
        "optimizer1 = optimizers.Adam()\n",
        "base_model = model1"
      ],
      "execution_count": 40,
      "outputs": []
    },
    {
      "cell_type": "code",
      "metadata": {
        "id": "s0GzsTX5UH80"
      },
      "source": [
        "# Them cac lop ben tren\n",
        "x = base_model.output\n",
        "x = Flatten()(x)\n",
        "x = Dense(128, activation='relu', name='fc1')(x)\n",
        "x = Dense(128, activation='relu', name='fc2')(x)\n",
        "x = Dense(128, activation='relu', name='fc2a')(x)\n",
        "x = Dense(128, activation='relu', name='fc3')(x)\n",
        "x = Dropout(0.5)(x)\n",
        "x = Dense(64, activation='relu', name='fc4')(x)"
      ],
      "execution_count": 41,
      "outputs": []
    },
    {
      "cell_type": "code",
      "metadata": {
        "id": "cbq87IhLUH80"
      },
      "source": [
        "# Them lop cuoi\n",
        "predictions = Dense(5, activation='softmax')(x)\n",
        "model = Model(inputs=base_model.input, outputs=predictions)"
      ],
      "execution_count": 42,
      "outputs": []
    },
    {
      "cell_type": "code",
      "metadata": {
        "id": "9D_GF20MUH80"
      },
      "source": [
        "# Dong bang cac lop duoi, chi train lop ben tren minh them vao\n",
        "for layer in base_model.layers:\n",
        "    layer.trainable = False"
      ],
      "execution_count": 43,
      "outputs": []
    },
    {
      "cell_type": "markdown",
      "metadata": {
        "id": "LtzCRlw1UH8z"
      },
      "source": [
        "# Split whold data to Train, Test Set\r\n",
        "\r\n",
        "\r\n",
        "*   Train Set: use K-Fold (K=5) in order to evaluation model, after evaluation, train model base whole Train Set\r\n",
        "*   Test Set: use final model to test on this\r\n",
        "\r\n"
      ]
    },
    {
      "cell_type": "code",
      "metadata": {
        "id": "kvz38buTUH8z"
      },
      "source": [
        "# Phan chia du lieu train va test theo ty le 80/20\n",
        "X_train, X_test, y_train, y_test = train_test_split(X_data, y_data, test_size = 0.2, random_state=12, stratify=y_data)"
      ],
      "execution_count": 20,
      "outputs": []
    },
    {
      "cell_type": "code",
      "metadata": {
        "colab": {
          "base_uri": "https://localhost:8080/",
          "height": 0
        },
        "id": "U6NTFK0pbLMT",
        "outputId": "10f9ae97-cec7-43cd-d173-094fcd387e38"
      },
      "source": [
        "# split X_train to 5-Fold\r\n",
        "from sklearn.model_selection import KFold\r\n",
        "kf = KFold(n_splits=5, shuffle=True, random_state=12)\r\n",
        "splits = list(kf.split(X_train))\r\n",
        "print(\"Done@\" + datetime.datetime.now().strftime(\"%Y-%m-%dT%HZ\"))"
      ],
      "execution_count": 21,
      "outputs": [
        {
          "output_type": "stream",
          "text": [
            "Done@2021-01-02T16Z\n"
          ],
          "name": "stdout"
        }
      ]
    },
    {
      "cell_type": "markdown",
      "metadata": {
        "id": "cqMxltN2f_ai"
      },
      "source": [
        "# Train 6 model: 5 model to evaluation (use K-Fold), 1 model is final model (trained on whole train set)"
      ]
    },
    {
      "cell_type": "markdown",
      "metadata": {
        "id": "dNSg1ls3nemy"
      },
      "source": [
        "## Train Fold 0 --> Fold 4, save history to file"
      ]
    },
    {
      "cell_type": "code",
      "metadata": {
        "colab": {
          "base_uri": "https://localhost:8080/",
          "height": 0
        },
        "id": "6PIum4WVnemy",
        "outputId": "3c9466e7-3c9a-4698-944f-1d1958fef072"
      },
      "source": [
        "for i in range(5):\n",
        "  train_indices, val_indices = splits[i]\n",
        "  X_train_k = X_train[train_indices]\n",
        "  X_val_k = X_train[val_indices]\n",
        "  y_train_k = y_train[train_indices]\n",
        "  y_val_k = y_train[val_indices]\n",
        "  # Train Fold\n",
        "  model.compile(optimizer='Adam', loss='categorical_crossentropy', metrics=['accuracy'])\n",
        "  hist_k = model.fit(X_train_k, y_train_k, epochs=50, batch_size=64, validation_data=(X_val_k, y_val_k), verbose=1)\n",
        "  # save history to file\n",
        "  f_k = open(RootFolder + 'history/history_final' + str(i) + '.pckl', 'wb')\n",
        "  pickle.dump(hist_k.history, f_k)\n",
        "  f_k.close()\n",
        "  print(\"Done@\" + datetime.datetime.now().strftime(\"%Y-%m-%dT%HZ\"))"
      ],
      "execution_count": 71,
      "outputs": [
        {
          "output_type": "stream",
          "text": [
            "Epoch 1/50\n",
            "28/28 [==============================] - 12s 417ms/step - loss: 0.0565 - accuracy: 0.9813 - val_loss: 0.0317 - val_accuracy: 0.9886\n",
            "Epoch 2/50\n",
            "28/28 [==============================] - 8s 290ms/step - loss: 0.0189 - accuracy: 0.9930 - val_loss: 2.9690e-04 - val_accuracy: 1.0000\n",
            "Epoch 3/50\n",
            "28/28 [==============================] - 8s 294ms/step - loss: 0.0020 - accuracy: 0.9994 - val_loss: 3.9960e-04 - val_accuracy: 1.0000\n",
            "Epoch 4/50\n",
            "28/28 [==============================] - 8s 298ms/step - loss: 4.8359e-04 - accuracy: 1.0000 - val_loss: 0.0049 - val_accuracy: 0.9977\n",
            "Epoch 5/50\n",
            "28/28 [==============================] - 8s 302ms/step - loss: 5.9630e-04 - accuracy: 1.0000 - val_loss: 6.8982e-04 - val_accuracy: 1.0000\n",
            "Epoch 6/50\n",
            "28/28 [==============================] - 9s 306ms/step - loss: 0.0060 - accuracy: 0.9988 - val_loss: 0.0025 - val_accuracy: 0.9977\n",
            "Epoch 7/50\n",
            "28/28 [==============================] - 8s 303ms/step - loss: 0.0443 - accuracy: 0.9848 - val_loss: 0.0429 - val_accuracy: 0.9909\n",
            "Epoch 8/50\n",
            "28/28 [==============================] - 8s 306ms/step - loss: 0.0316 - accuracy: 0.9896 - val_loss: 0.0154 - val_accuracy: 0.9955\n",
            "Epoch 9/50\n",
            "28/28 [==============================] - 8s 295ms/step - loss: 0.0076 - accuracy: 0.9985 - val_loss: 0.0047 - val_accuracy: 0.9977\n",
            "Epoch 10/50\n",
            "28/28 [==============================] - 8s 294ms/step - loss: 0.0079 - accuracy: 0.9965 - val_loss: 0.0048 - val_accuracy: 0.9955\n",
            "Epoch 11/50\n",
            "28/28 [==============================] - 8s 294ms/step - loss: 0.0319 - accuracy: 0.9901 - val_loss: 0.1241 - val_accuracy: 0.9636\n",
            "Epoch 12/50\n",
            "28/28 [==============================] - 8s 295ms/step - loss: 0.0382 - accuracy: 0.9868 - val_loss: 0.0524 - val_accuracy: 0.9818\n",
            "Epoch 13/50\n",
            "28/28 [==============================] - 8s 297ms/step - loss: 0.0200 - accuracy: 0.9909 - val_loss: 0.0207 - val_accuracy: 0.9955\n",
            "Epoch 14/50\n",
            "28/28 [==============================] - 8s 298ms/step - loss: 4.3929e-04 - accuracy: 1.0000 - val_loss: 0.0019 - val_accuracy: 1.0000\n",
            "Epoch 15/50\n",
            "28/28 [==============================] - 8s 299ms/step - loss: 6.0877e-04 - accuracy: 1.0000 - val_loss: 0.0013 - val_accuracy: 1.0000\n",
            "Epoch 16/50\n",
            "28/28 [==============================] - 8s 300ms/step - loss: 2.4361e-04 - accuracy: 1.0000 - val_loss: 0.0021 - val_accuracy: 1.0000\n",
            "Epoch 17/50\n",
            "28/28 [==============================] - 8s 300ms/step - loss: 6.8740e-05 - accuracy: 1.0000 - val_loss: 0.0018 - val_accuracy: 1.0000\n",
            "Epoch 18/50\n",
            "28/28 [==============================] - 8s 298ms/step - loss: 1.0599e-04 - accuracy: 1.0000 - val_loss: 0.0016 - val_accuracy: 1.0000\n",
            "Epoch 19/50\n",
            "28/28 [==============================] - 8s 297ms/step - loss: 1.3297e-04 - accuracy: 1.0000 - val_loss: 0.0015 - val_accuracy: 1.0000\n",
            "Epoch 20/50\n",
            "28/28 [==============================] - 8s 297ms/step - loss: 1.3362e-04 - accuracy: 1.0000 - val_loss: 9.3271e-04 - val_accuracy: 1.0000\n",
            "Epoch 21/50\n",
            "28/28 [==============================] - 8s 296ms/step - loss: 6.0635e-05 - accuracy: 1.0000 - val_loss: 8.9187e-04 - val_accuracy: 1.0000\n",
            "Epoch 22/50\n",
            "28/28 [==============================] - 8s 297ms/step - loss: 6.2491e-05 - accuracy: 1.0000 - val_loss: 6.6155e-04 - val_accuracy: 1.0000\n",
            "Epoch 23/50\n",
            "28/28 [==============================] - 8s 297ms/step - loss: 1.4238e-04 - accuracy: 1.0000 - val_loss: 0.0013 - val_accuracy: 1.0000\n",
            "Epoch 24/50\n",
            "28/28 [==============================] - 8s 297ms/step - loss: 8.7263e-05 - accuracy: 1.0000 - val_loss: 0.0024 - val_accuracy: 1.0000\n",
            "Epoch 25/50\n",
            "28/28 [==============================] - 8s 297ms/step - loss: 8.0975e-05 - accuracy: 1.0000 - val_loss: 0.0017 - val_accuracy: 1.0000\n",
            "Epoch 26/50\n",
            "28/28 [==============================] - 8s 298ms/step - loss: 5.8225e-05 - accuracy: 1.0000 - val_loss: 0.0011 - val_accuracy: 1.0000\n",
            "Epoch 27/50\n",
            "28/28 [==============================] - 8s 297ms/step - loss: 2.2665e-05 - accuracy: 1.0000 - val_loss: 0.0011 - val_accuracy: 1.0000\n",
            "Epoch 28/50\n",
            "28/28 [==============================] - 8s 298ms/step - loss: 1.9540e-05 - accuracy: 1.0000 - val_loss: 9.8116e-04 - val_accuracy: 1.0000\n",
            "Epoch 29/50\n",
            "28/28 [==============================] - 8s 298ms/step - loss: 7.1386e-06 - accuracy: 1.0000 - val_loss: 9.6989e-04 - val_accuracy: 1.0000\n",
            "Epoch 30/50\n",
            "28/28 [==============================] - 8s 299ms/step - loss: 2.2239e-05 - accuracy: 1.0000 - val_loss: 0.0010 - val_accuracy: 1.0000\n",
            "Epoch 31/50\n",
            "28/28 [==============================] - 8s 298ms/step - loss: 5.8852e-05 - accuracy: 1.0000 - val_loss: 0.0014 - val_accuracy: 1.0000\n",
            "Epoch 32/50\n",
            "28/28 [==============================] - 8s 297ms/step - loss: 2.9945e-05 - accuracy: 1.0000 - val_loss: 0.0017 - val_accuracy: 1.0000\n",
            "Epoch 33/50\n",
            "28/28 [==============================] - 8s 296ms/step - loss: 3.0663e-05 - accuracy: 1.0000 - val_loss: 0.0016 - val_accuracy: 1.0000\n",
            "Epoch 34/50\n",
            "28/28 [==============================] - 8s 297ms/step - loss: 9.1279e-05 - accuracy: 1.0000 - val_loss: 0.0012 - val_accuracy: 1.0000\n",
            "Epoch 35/50\n",
            "28/28 [==============================] - 8s 297ms/step - loss: 1.4353e-05 - accuracy: 1.0000 - val_loss: 0.0010 - val_accuracy: 1.0000\n",
            "Epoch 36/50\n",
            "28/28 [==============================] - 8s 296ms/step - loss: 2.1034e-05 - accuracy: 1.0000 - val_loss: 9.1551e-04 - val_accuracy: 1.0000\n",
            "Epoch 37/50\n",
            "28/28 [==============================] - 8s 296ms/step - loss: 1.1997e-05 - accuracy: 1.0000 - val_loss: 8.8527e-04 - val_accuracy: 1.0000\n",
            "Epoch 38/50\n",
            "28/28 [==============================] - 8s 298ms/step - loss: 1.4529e-05 - accuracy: 1.0000 - val_loss: 8.7775e-04 - val_accuracy: 1.0000\n",
            "Epoch 39/50\n",
            "28/28 [==============================] - 8s 297ms/step - loss: 6.6483e-06 - accuracy: 1.0000 - val_loss: 8.4471e-04 - val_accuracy: 1.0000\n",
            "Epoch 40/50\n",
            "28/28 [==============================] - 8s 297ms/step - loss: 1.3194e-05 - accuracy: 1.0000 - val_loss: 8.3187e-04 - val_accuracy: 1.0000\n",
            "Epoch 41/50\n",
            "28/28 [==============================] - 8s 297ms/step - loss: 8.2998e-05 - accuracy: 1.0000 - val_loss: 8.9952e-04 - val_accuracy: 1.0000\n",
            "Epoch 42/50\n",
            "28/28 [==============================] - 8s 297ms/step - loss: 3.9010e-05 - accuracy: 1.0000 - val_loss: 9.7201e-04 - val_accuracy: 1.0000\n",
            "Epoch 43/50\n",
            "28/28 [==============================] - 8s 298ms/step - loss: 1.1695e-05 - accuracy: 1.0000 - val_loss: 8.6377e-04 - val_accuracy: 1.0000\n",
            "Epoch 44/50\n",
            "28/28 [==============================] - 8s 298ms/step - loss: 2.8973e-05 - accuracy: 1.0000 - val_loss: 9.0124e-04 - val_accuracy: 1.0000\n",
            "Epoch 45/50\n",
            "28/28 [==============================] - 8s 298ms/step - loss: 1.1818e-05 - accuracy: 1.0000 - val_loss: 7.7121e-04 - val_accuracy: 1.0000\n",
            "Epoch 46/50\n",
            "28/28 [==============================] - 8s 298ms/step - loss: 2.0926e-04 - accuracy: 1.0000 - val_loss: 6.3384e-04 - val_accuracy: 1.0000\n",
            "Epoch 47/50\n",
            "28/28 [==============================] - 8s 298ms/step - loss: 1.2241e-05 - accuracy: 1.0000 - val_loss: 8.7948e-04 - val_accuracy: 1.0000\n",
            "Epoch 48/50\n",
            "28/28 [==============================] - 8s 298ms/step - loss: 9.6091e-06 - accuracy: 1.0000 - val_loss: 0.0023 - val_accuracy: 1.0000\n",
            "Epoch 49/50\n",
            "28/28 [==============================] - 8s 298ms/step - loss: 1.7274e-05 - accuracy: 1.0000 - val_loss: 0.0012 - val_accuracy: 1.0000\n",
            "Epoch 50/50\n",
            "28/28 [==============================] - 8s 297ms/step - loss: 1.5294e-05 - accuracy: 1.0000 - val_loss: 0.0012 - val_accuracy: 1.0000\n",
            "Done@2021-01-02T17Z\n",
            "Epoch 1/50\n",
            "28/28 [==============================] - 9s 305ms/step - loss: 0.0168 - accuracy: 0.9938 - val_loss: 0.0637 - val_accuracy: 0.9841\n",
            "Epoch 2/50\n",
            "28/28 [==============================] - 8s 298ms/step - loss: 0.0727 - accuracy: 0.9900 - val_loss: 8.7279e-04 - val_accuracy: 1.0000\n",
            "Epoch 3/50\n",
            "28/28 [==============================] - 8s 297ms/step - loss: 0.0282 - accuracy: 0.9930 - val_loss: 4.1326e-05 - val_accuracy: 1.0000\n",
            "Epoch 4/50\n",
            "28/28 [==============================] - 8s 299ms/step - loss: 0.0021 - accuracy: 0.9990 - val_loss: 0.0360 - val_accuracy: 0.9909\n",
            "Epoch 5/50\n",
            "28/28 [==============================] - 8s 298ms/step - loss: 0.0984 - accuracy: 0.9835 - val_loss: 0.0403 - val_accuracy: 0.9932\n",
            "Epoch 6/50\n",
            "28/28 [==============================] - 8s 298ms/step - loss: 0.0126 - accuracy: 0.9966 - val_loss: 9.0453e-04 - val_accuracy: 1.0000\n",
            "Epoch 7/50\n",
            "28/28 [==============================] - 8s 298ms/step - loss: 8.6769e-04 - accuracy: 0.9997 - val_loss: 0.0183 - val_accuracy: 0.9977\n",
            "Epoch 8/50\n",
            "28/28 [==============================] - 8s 297ms/step - loss: 0.0015 - accuracy: 0.9991 - val_loss: 7.8370e-05 - val_accuracy: 1.0000\n",
            "Epoch 9/50\n",
            "28/28 [==============================] - 8s 298ms/step - loss: 1.2984e-04 - accuracy: 1.0000 - val_loss: 8.1286e-05 - val_accuracy: 1.0000\n",
            "Epoch 10/50\n",
            "28/28 [==============================] - 8s 298ms/step - loss: 9.0831e-05 - accuracy: 1.0000 - val_loss: 6.3365e-05 - val_accuracy: 1.0000\n",
            "Epoch 11/50\n",
            "28/28 [==============================] - 8s 297ms/step - loss: 2.3310e-04 - accuracy: 1.0000 - val_loss: 6.7924e-05 - val_accuracy: 1.0000\n",
            "Epoch 12/50\n",
            "28/28 [==============================] - 8s 302ms/step - loss: 8.8114e-05 - accuracy: 1.0000 - val_loss: 5.8643e-05 - val_accuracy: 1.0000\n",
            "Epoch 13/50\n",
            "28/28 [==============================] - 8s 297ms/step - loss: 4.7375e-05 - accuracy: 1.0000 - val_loss: 4.4159e-05 - val_accuracy: 1.0000\n",
            "Epoch 14/50\n",
            "28/28 [==============================] - 8s 297ms/step - loss: 3.7240e-05 - accuracy: 1.0000 - val_loss: 4.1662e-05 - val_accuracy: 1.0000\n",
            "Epoch 15/50\n",
            "28/28 [==============================] - 8s 296ms/step - loss: 3.0042e-05 - accuracy: 1.0000 - val_loss: 3.9391e-05 - val_accuracy: 1.0000\n",
            "Epoch 16/50\n",
            "28/28 [==============================] - 8s 297ms/step - loss: 9.5932e-05 - accuracy: 1.0000 - val_loss: 3.3043e-05 - val_accuracy: 1.0000\n",
            "Epoch 17/50\n",
            "28/28 [==============================] - 8s 297ms/step - loss: 6.3974e-05 - accuracy: 1.0000 - val_loss: 2.6839e-05 - val_accuracy: 1.0000\n",
            "Epoch 18/50\n",
            "28/28 [==============================] - 8s 297ms/step - loss: 7.7754e-05 - accuracy: 1.0000 - val_loss: 2.5308e-05 - val_accuracy: 1.0000\n",
            "Epoch 19/50\n",
            "28/28 [==============================] - 8s 299ms/step - loss: 1.9637e-05 - accuracy: 1.0000 - val_loss: 2.3854e-05 - val_accuracy: 1.0000\n",
            "Epoch 20/50\n",
            "28/28 [==============================] - 8s 298ms/step - loss: 1.3271e-05 - accuracy: 1.0000 - val_loss: 2.0809e-05 - val_accuracy: 1.0000\n",
            "Epoch 21/50\n",
            "28/28 [==============================] - 8s 298ms/step - loss: 2.7633e-05 - accuracy: 1.0000 - val_loss: 1.9737e-05 - val_accuracy: 1.0000\n",
            "Epoch 22/50\n",
            "28/28 [==============================] - 8s 298ms/step - loss: 1.8013e-05 - accuracy: 1.0000 - val_loss: 1.8696e-05 - val_accuracy: 1.0000\n",
            "Epoch 23/50\n",
            "28/28 [==============================] - 8s 298ms/step - loss: 1.3657e-05 - accuracy: 1.0000 - val_loss: 1.7744e-05 - val_accuracy: 1.0000\n",
            "Epoch 24/50\n",
            "28/28 [==============================] - 8s 298ms/step - loss: 3.0917e-05 - accuracy: 1.0000 - val_loss: 1.7177e-05 - val_accuracy: 1.0000\n",
            "Epoch 25/50\n",
            "28/28 [==============================] - 8s 298ms/step - loss: 2.5498e-05 - accuracy: 1.0000 - val_loss: 1.6883e-05 - val_accuracy: 1.0000\n",
            "Epoch 26/50\n",
            "28/28 [==============================] - 8s 299ms/step - loss: 1.0490e-05 - accuracy: 1.0000 - val_loss: 1.6834e-05 - val_accuracy: 1.0000\n",
            "Epoch 27/50\n",
            "28/28 [==============================] - 8s 298ms/step - loss: 1.1845e-05 - accuracy: 1.0000 - val_loss: 1.6437e-05 - val_accuracy: 1.0000\n",
            "Epoch 28/50\n",
            "28/28 [==============================] - 8s 298ms/step - loss: 8.9343e-05 - accuracy: 1.0000 - val_loss: 1.4565e-05 - val_accuracy: 1.0000\n",
            "Epoch 29/50\n",
            "28/28 [==============================] - 8s 298ms/step - loss: 3.6504e-05 - accuracy: 1.0000 - val_loss: 1.3971e-05 - val_accuracy: 1.0000\n",
            "Epoch 30/50\n",
            "28/28 [==============================] - 8s 299ms/step - loss: 1.0067e-05 - accuracy: 1.0000 - val_loss: 1.3492e-05 - val_accuracy: 1.0000\n",
            "Epoch 31/50\n",
            "28/28 [==============================] - 8s 298ms/step - loss: 3.4805e-06 - accuracy: 1.0000 - val_loss: 1.3255e-05 - val_accuracy: 1.0000\n",
            "Epoch 32/50\n",
            "28/28 [==============================] - 8s 298ms/step - loss: 5.0670e-06 - accuracy: 1.0000 - val_loss: 1.3009e-05 - val_accuracy: 1.0000\n",
            "Epoch 33/50\n",
            "28/28 [==============================] - 8s 298ms/step - loss: 6.7921e-06 - accuracy: 1.0000 - val_loss: 1.2858e-05 - val_accuracy: 1.0000\n",
            "Epoch 34/50\n",
            "28/28 [==============================] - 8s 298ms/step - loss: 1.0335e-04 - accuracy: 1.0000 - val_loss: 1.1995e-05 - val_accuracy: 1.0000\n",
            "Epoch 35/50\n",
            "28/28 [==============================] - 8s 299ms/step - loss: 2.7569e-05 - accuracy: 1.0000 - val_loss: 1.2347e-05 - val_accuracy: 1.0000\n",
            "Epoch 36/50\n",
            "28/28 [==============================] - 8s 298ms/step - loss: 5.0325e-06 - accuracy: 1.0000 - val_loss: 1.2320e-05 - val_accuracy: 1.0000\n",
            "Epoch 37/50\n",
            "28/28 [==============================] - 8s 297ms/step - loss: 6.1245e-06 - accuracy: 1.0000 - val_loss: 1.1948e-05 - val_accuracy: 1.0000\n",
            "Epoch 38/50\n",
            "28/28 [==============================] - 8s 299ms/step - loss: 3.3241e-05 - accuracy: 1.0000 - val_loss: 1.2094e-05 - val_accuracy: 1.0000\n",
            "Epoch 39/50\n",
            "28/28 [==============================] - 8s 298ms/step - loss: 4.7550e-06 - accuracy: 1.0000 - val_loss: 1.1863e-05 - val_accuracy: 1.0000\n",
            "Epoch 40/50\n",
            "28/28 [==============================] - 8s 298ms/step - loss: 9.3857e-06 - accuracy: 1.0000 - val_loss: 1.1805e-05 - val_accuracy: 1.0000\n",
            "Epoch 41/50\n",
            "28/28 [==============================] - 8s 299ms/step - loss: 2.3719e-05 - accuracy: 1.0000 - val_loss: 1.0052e-05 - val_accuracy: 1.0000\n",
            "Epoch 42/50\n",
            "28/28 [==============================] - 8s 299ms/step - loss: 8.7311e-06 - accuracy: 1.0000 - val_loss: 9.7391e-06 - val_accuracy: 1.0000\n",
            "Epoch 43/50\n",
            "28/28 [==============================] - 8s 298ms/step - loss: 1.9533e-06 - accuracy: 1.0000 - val_loss: 9.7261e-06 - val_accuracy: 1.0000\n",
            "Epoch 44/50\n",
            "28/28 [==============================] - 8s 298ms/step - loss: 1.9969e-05 - accuracy: 1.0000 - val_loss: 8.9676e-06 - val_accuracy: 1.0000\n",
            "Epoch 45/50\n",
            "28/28 [==============================] - 8s 298ms/step - loss: 7.5270e-06 - accuracy: 1.0000 - val_loss: 6.7522e-06 - val_accuracy: 1.0000\n",
            "Epoch 46/50\n",
            "28/28 [==============================] - 8s 299ms/step - loss: 1.8728e-05 - accuracy: 1.0000 - val_loss: 5.2842e-06 - val_accuracy: 1.0000\n",
            "Epoch 47/50\n",
            "28/28 [==============================] - 8s 298ms/step - loss: 1.2491e-05 - accuracy: 1.0000 - val_loss: 4.4972e-06 - val_accuracy: 1.0000\n",
            "Epoch 48/50\n",
            "28/28 [==============================] - 8s 299ms/step - loss: 2.0171e-06 - accuracy: 1.0000 - val_loss: 4.4384e-06 - val_accuracy: 1.0000\n",
            "Epoch 49/50\n",
            "28/28 [==============================] - 8s 297ms/step - loss: 2.3564e-06 - accuracy: 1.0000 - val_loss: 4.3255e-06 - val_accuracy: 1.0000\n",
            "Epoch 50/50\n",
            "28/28 [==============================] - 8s 297ms/step - loss: 1.8239e-05 - accuracy: 1.0000 - val_loss: 3.9201e-06 - val_accuracy: 1.0000\n",
            "Done@2021-01-02T17Z\n",
            "Epoch 1/50\n",
            "28/28 [==============================] - 9s 306ms/step - loss: 0.0115 - accuracy: 0.9958 - val_loss: 1.8341e-06 - val_accuracy: 1.0000\n",
            "Epoch 2/50\n",
            "28/28 [==============================] - 8s 297ms/step - loss: 0.0245 - accuracy: 0.9973 - val_loss: 3.9608e-05 - val_accuracy: 1.0000\n",
            "Epoch 3/50\n",
            "28/28 [==============================] - 8s 298ms/step - loss: 0.0049 - accuracy: 0.9989 - val_loss: 5.0361e-04 - val_accuracy: 1.0000\n",
            "Epoch 4/50\n",
            "28/28 [==============================] - 8s 298ms/step - loss: 0.0091 - accuracy: 0.9965 - val_loss: 1.6391e-07 - val_accuracy: 1.0000\n",
            "Epoch 5/50\n",
            "28/28 [==============================] - 8s 299ms/step - loss: 4.0191e-05 - accuracy: 1.0000 - val_loss: 1.3330e-07 - val_accuracy: 1.0000\n",
            "Epoch 6/50\n",
            "28/28 [==============================] - 8s 298ms/step - loss: 1.8179e-05 - accuracy: 1.0000 - val_loss: 9.4283e-08 - val_accuracy: 1.0000\n",
            "Epoch 7/50\n",
            "28/28 [==============================] - 8s 298ms/step - loss: 1.1353e-04 - accuracy: 1.0000 - val_loss: 1.9236e-08 - val_accuracy: 1.0000\n",
            "Epoch 8/50\n",
            "28/28 [==============================] - 8s 297ms/step - loss: 1.3882e-06 - accuracy: 1.0000 - val_loss: 1.1650e-08 - val_accuracy: 1.0000\n",
            "Epoch 9/50\n",
            "28/28 [==============================] - 8s 296ms/step - loss: 1.2018e-05 - accuracy: 1.0000 - val_loss: 9.4825e-09 - val_accuracy: 1.0000\n",
            "Epoch 10/50\n",
            "28/28 [==============================] - 8s 296ms/step - loss: 2.8366e-06 - accuracy: 1.0000 - val_loss: 8.9407e-09 - val_accuracy: 1.0000\n",
            "Epoch 11/50\n",
            "28/28 [==============================] - 8s 295ms/step - loss: 1.7307e-06 - accuracy: 1.0000 - val_loss: 8.3988e-09 - val_accuracy: 1.0000\n",
            "Epoch 12/50\n",
            "28/28 [==============================] - 8s 295ms/step - loss: 9.9256e-06 - accuracy: 1.0000 - val_loss: 7.3151e-09 - val_accuracy: 1.0000\n",
            "Epoch 13/50\n",
            "28/28 [==============================] - 8s 294ms/step - loss: 1.6493e-06 - accuracy: 1.0000 - val_loss: 6.2314e-09 - val_accuracy: 1.0000\n",
            "Epoch 14/50\n",
            "28/28 [==============================] - 8s 295ms/step - loss: 2.3909e-05 - accuracy: 1.0000 - val_loss: 5.4186e-09 - val_accuracy: 1.0000\n",
            "Epoch 15/50\n",
            "28/28 [==============================] - 8s 293ms/step - loss: 3.8594e-06 - accuracy: 1.0000 - val_loss: 3.2512e-09 - val_accuracy: 1.0000\n",
            "Epoch 16/50\n",
            "28/28 [==============================] - 8s 294ms/step - loss: 5.4771e-06 - accuracy: 1.0000 - val_loss: 2.1674e-09 - val_accuracy: 1.0000\n",
            "Epoch 17/50\n",
            "28/28 [==============================] - 8s 294ms/step - loss: 4.4611e-05 - accuracy: 1.0000 - val_loss: 2.1674e-09 - val_accuracy: 1.0000\n",
            "Epoch 18/50\n",
            "28/28 [==============================] - 8s 294ms/step - loss: 4.0601e-07 - accuracy: 1.0000 - val_loss: 1.8965e-09 - val_accuracy: 1.0000\n",
            "Epoch 19/50\n",
            "28/28 [==============================] - 8s 298ms/step - loss: 3.6867e-07 - accuracy: 1.0000 - val_loss: 1.6256e-09 - val_accuracy: 1.0000\n",
            "Epoch 20/50\n",
            "28/28 [==============================] - 8s 293ms/step - loss: 3.3846e-06 - accuracy: 1.0000 - val_loss: 1.6256e-09 - val_accuracy: 1.0000\n",
            "Epoch 21/50\n",
            "28/28 [==============================] - 8s 293ms/step - loss: 1.7281e-07 - accuracy: 1.0000 - val_loss: 1.6256e-09 - val_accuracy: 1.0000\n",
            "Epoch 22/50\n",
            "28/28 [==============================] - 8s 293ms/step - loss: 9.4902e-07 - accuracy: 1.0000 - val_loss: 1.3547e-09 - val_accuracy: 1.0000\n",
            "Epoch 23/50\n",
            "28/28 [==============================] - 8s 294ms/step - loss: 8.0804e-07 - accuracy: 1.0000 - val_loss: 8.1279e-10 - val_accuracy: 1.0000\n",
            "Epoch 24/50\n",
            "28/28 [==============================] - 8s 294ms/step - loss: 4.2384e-06 - accuracy: 1.0000 - val_loss: 2.7093e-10 - val_accuracy: 1.0000\n",
            "Epoch 25/50\n",
            "28/28 [==============================] - 8s 293ms/step - loss: 3.7280e-07 - accuracy: 1.0000 - val_loss: 2.7093e-10 - val_accuracy: 1.0000\n",
            "Epoch 26/50\n",
            "28/28 [==============================] - 8s 293ms/step - loss: 1.0319e-07 - accuracy: 1.0000 - val_loss: 2.7093e-10 - val_accuracy: 1.0000\n",
            "Epoch 27/50\n",
            "28/28 [==============================] - 8s 294ms/step - loss: 6.1677e-07 - accuracy: 1.0000 - val_loss: 2.7093e-10 - val_accuracy: 1.0000\n",
            "Epoch 28/50\n",
            "28/28 [==============================] - 8s 293ms/step - loss: 8.9355e-08 - accuracy: 1.0000 - val_loss: 2.7093e-10 - val_accuracy: 1.0000\n",
            "Epoch 29/50\n",
            "28/28 [==============================] - 8s 293ms/step - loss: 6.3125e-08 - accuracy: 1.0000 - val_loss: 2.7093e-10 - val_accuracy: 1.0000\n",
            "Epoch 30/50\n",
            "28/28 [==============================] - 8s 292ms/step - loss: 1.3994e-06 - accuracy: 1.0000 - val_loss: 0.0000e+00 - val_accuracy: 1.0000\n",
            "Epoch 31/50\n",
            "28/28 [==============================] - 8s 293ms/step - loss: 2.1277e-06 - accuracy: 1.0000 - val_loss: 0.0000e+00 - val_accuracy: 1.0000\n",
            "Epoch 32/50\n",
            "28/28 [==============================] - 8s 293ms/step - loss: 1.9568e-06 - accuracy: 1.0000 - val_loss: 0.0000e+00 - val_accuracy: 1.0000\n",
            "Epoch 33/50\n",
            "28/28 [==============================] - 8s 292ms/step - loss: 9.8031e-09 - accuracy: 1.0000 - val_loss: 0.0000e+00 - val_accuracy: 1.0000\n",
            "Epoch 34/50\n",
            "28/28 [==============================] - 8s 291ms/step - loss: 5.0774e-07 - accuracy: 1.0000 - val_loss: 0.0000e+00 - val_accuracy: 1.0000\n",
            "Epoch 35/50\n",
            "28/28 [==============================] - 8s 291ms/step - loss: 1.6083e-06 - accuracy: 1.0000 - val_loss: 0.0000e+00 - val_accuracy: 1.0000\n",
            "Epoch 36/50\n",
            "28/28 [==============================] - 8s 293ms/step - loss: 4.6914e-07 - accuracy: 1.0000 - val_loss: 0.0000e+00 - val_accuracy: 1.0000\n",
            "Epoch 37/50\n",
            "28/28 [==============================] - 8s 292ms/step - loss: 9.9780e-07 - accuracy: 1.0000 - val_loss: 0.0000e+00 - val_accuracy: 1.0000\n",
            "Epoch 38/50\n",
            "28/28 [==============================] - 8s 292ms/step - loss: 1.8429e-07 - accuracy: 1.0000 - val_loss: 0.0000e+00 - val_accuracy: 1.0000\n",
            "Epoch 39/50\n",
            "28/28 [==============================] - 8s 292ms/step - loss: 3.9616e-06 - accuracy: 1.0000 - val_loss: 0.0000e+00 - val_accuracy: 1.0000\n",
            "Epoch 40/50\n",
            "28/28 [==============================] - 8s 293ms/step - loss: 2.7662e-06 - accuracy: 1.0000 - val_loss: 0.0000e+00 - val_accuracy: 1.0000\n",
            "Epoch 41/50\n",
            "28/28 [==============================] - 8s 293ms/step - loss: 3.9766e-07 - accuracy: 1.0000 - val_loss: 0.0000e+00 - val_accuracy: 1.0000\n",
            "Epoch 42/50\n",
            "28/28 [==============================] - 8s 292ms/step - loss: 8.9089e-08 - accuracy: 1.0000 - val_loss: 0.0000e+00 - val_accuracy: 1.0000\n",
            "Epoch 43/50\n",
            "28/28 [==============================] - 8s 292ms/step - loss: 1.5156e-08 - accuracy: 1.0000 - val_loss: 0.0000e+00 - val_accuracy: 1.0000\n",
            "Epoch 44/50\n",
            "28/28 [==============================] - 8s 293ms/step - loss: 5.0532e-08 - accuracy: 1.0000 - val_loss: 0.0000e+00 - val_accuracy: 1.0000\n",
            "Epoch 45/50\n",
            "28/28 [==============================] - 8s 292ms/step - loss: 5.0101e-08 - accuracy: 1.0000 - val_loss: 0.0000e+00 - val_accuracy: 1.0000\n",
            "Epoch 46/50\n",
            "28/28 [==============================] - 8s 293ms/step - loss: 5.5187e-08 - accuracy: 1.0000 - val_loss: 0.0000e+00 - val_accuracy: 1.0000\n",
            "Epoch 47/50\n",
            "28/28 [==============================] - 8s 292ms/step - loss: 5.7349e-07 - accuracy: 1.0000 - val_loss: 0.0000e+00 - val_accuracy: 1.0000\n",
            "Epoch 48/50\n",
            "28/28 [==============================] - 8s 293ms/step - loss: 5.4799e-08 - accuracy: 1.0000 - val_loss: 0.0000e+00 - val_accuracy: 1.0000\n",
            "Epoch 49/50\n",
            "28/28 [==============================] - 8s 293ms/step - loss: 3.0393e-07 - accuracy: 1.0000 - val_loss: 0.0000e+00 - val_accuracy: 1.0000\n",
            "Epoch 50/50\n",
            "28/28 [==============================] - 8s 292ms/step - loss: 7.0186e-07 - accuracy: 1.0000 - val_loss: 0.0000e+00 - val_accuracy: 1.0000\n",
            "Done@2021-01-02T17Z\n",
            "Epoch 1/50\n",
            "28/28 [==============================] - 9s 299ms/step - loss: 1.7152e-07 - accuracy: 1.0000 - val_loss: 1.0862e-09 - val_accuracy: 1.0000\n",
            "Epoch 2/50\n",
            "28/28 [==============================] - 8s 292ms/step - loss: 4.9843e-09 - accuracy: 1.0000 - val_loss: 2.7155e-10 - val_accuracy: 1.0000\n",
            "Epoch 3/50\n",
            "28/28 [==============================] - 8s 291ms/step - loss: 0.0030 - accuracy: 0.9995 - val_loss: 0.0601 - val_accuracy: 0.9886\n",
            "Epoch 4/50\n",
            "28/28 [==============================] - 8s 292ms/step - loss: 0.1191 - accuracy: 0.9830 - val_loss: 0.4136 - val_accuracy: 0.9567\n",
            "Epoch 5/50\n",
            "28/28 [==============================] - 8s 292ms/step - loss: 0.0722 - accuracy: 0.9928 - val_loss: 0.0040 - val_accuracy: 0.9977\n",
            "Epoch 6/50\n",
            "28/28 [==============================] - 8s 292ms/step - loss: 0.0116 - accuracy: 0.9964 - val_loss: 2.4730e-05 - val_accuracy: 1.0000\n",
            "Epoch 7/50\n",
            "28/28 [==============================] - 8s 291ms/step - loss: 2.3655e-04 - accuracy: 1.0000 - val_loss: 9.5882e-04 - val_accuracy: 1.0000\n",
            "Epoch 8/50\n",
            "28/28 [==============================] - 8s 293ms/step - loss: 3.8289e-05 - accuracy: 1.0000 - val_loss: 4.6462e-05 - val_accuracy: 1.0000\n",
            "Epoch 9/50\n",
            "28/28 [==============================] - 8s 292ms/step - loss: 3.8658e-05 - accuracy: 1.0000 - val_loss: 2.9765e-05 - val_accuracy: 1.0000\n",
            "Epoch 10/50\n",
            "28/28 [==============================] - 8s 291ms/step - loss: 5.5035e-06 - accuracy: 1.0000 - val_loss: 2.7394e-05 - val_accuracy: 1.0000\n",
            "Epoch 11/50\n",
            "28/28 [==============================] - 8s 292ms/step - loss: 2.8505e-06 - accuracy: 1.0000 - val_loss: 2.6654e-05 - val_accuracy: 1.0000\n",
            "Epoch 12/50\n",
            "28/28 [==============================] - 8s 292ms/step - loss: 2.8704e-06 - accuracy: 1.0000 - val_loss: 2.5340e-05 - val_accuracy: 1.0000\n",
            "Epoch 13/50\n",
            "28/28 [==============================] - 8s 291ms/step - loss: 7.3346e-06 - accuracy: 1.0000 - val_loss: 2.0385e-05 - val_accuracy: 1.0000\n",
            "Epoch 14/50\n",
            "28/28 [==============================] - 8s 292ms/step - loss: 5.1043e-06 - accuracy: 1.0000 - val_loss: 2.0978e-05 - val_accuracy: 1.0000\n",
            "Epoch 15/50\n",
            "28/28 [==============================] - 8s 292ms/step - loss: 1.2499e-05 - accuracy: 1.0000 - val_loss: 2.2042e-05 - val_accuracy: 1.0000\n",
            "Epoch 16/50\n",
            "28/28 [==============================] - 8s 293ms/step - loss: 2.9820e-05 - accuracy: 1.0000 - val_loss: 2.5106e-05 - val_accuracy: 1.0000\n",
            "Epoch 17/50\n",
            "28/28 [==============================] - 8s 295ms/step - loss: 1.4827e-04 - accuracy: 0.9999 - val_loss: 2.5496e-05 - val_accuracy: 1.0000\n",
            "Epoch 18/50\n",
            "28/28 [==============================] - 8s 300ms/step - loss: 3.4142e-06 - accuracy: 1.0000 - val_loss: 1.8114e-05 - val_accuracy: 1.0000\n",
            "Epoch 19/50\n",
            "28/28 [==============================] - 8s 301ms/step - loss: 1.1266e-05 - accuracy: 1.0000 - val_loss: 1.5837e-05 - val_accuracy: 1.0000\n",
            "Epoch 20/50\n",
            "28/28 [==============================] - 8s 301ms/step - loss: 9.2275e-07 - accuracy: 1.0000 - val_loss: 1.3673e-05 - val_accuracy: 1.0000\n",
            "Epoch 21/50\n",
            "28/28 [==============================] - 8s 300ms/step - loss: 2.2411e-07 - accuracy: 1.0000 - val_loss: 1.3364e-05 - val_accuracy: 1.0000\n",
            "Epoch 22/50\n",
            "28/28 [==============================] - 8s 299ms/step - loss: 1.0265e-06 - accuracy: 1.0000 - val_loss: 1.3017e-05 - val_accuracy: 1.0000\n",
            "Epoch 23/50\n",
            "28/28 [==============================] - 8s 297ms/step - loss: 5.4902e-08 - accuracy: 1.0000 - val_loss: 1.2869e-05 - val_accuracy: 1.0000\n",
            "Epoch 24/50\n",
            "28/28 [==============================] - 8s 296ms/step - loss: 2.5261e-06 - accuracy: 1.0000 - val_loss: 1.2681e-05 - val_accuracy: 1.0000\n",
            "Epoch 25/50\n",
            "28/28 [==============================] - 8s 301ms/step - loss: 2.6772e-07 - accuracy: 1.0000 - val_loss: 1.2589e-05 - val_accuracy: 1.0000\n",
            "Epoch 26/50\n",
            "28/28 [==============================] - 8s 297ms/step - loss: 3.9451e-04 - accuracy: 1.0000 - val_loss: 8.6956e-06 - val_accuracy: 1.0000\n",
            "Epoch 27/50\n",
            "28/28 [==============================] - 8s 298ms/step - loss: 3.3866e-05 - accuracy: 1.0000 - val_loss: 4.6019e-06 - val_accuracy: 1.0000\n",
            "Epoch 28/50\n",
            "28/28 [==============================] - 8s 298ms/step - loss: 3.2922e-05 - accuracy: 1.0000 - val_loss: 2.3140e-06 - val_accuracy: 1.0000\n",
            "Epoch 29/50\n",
            "28/28 [==============================] - 8s 299ms/step - loss: 5.7216e-08 - accuracy: 1.0000 - val_loss: 2.2837e-06 - val_accuracy: 1.0000\n",
            "Epoch 30/50\n",
            "28/28 [==============================] - 8s 298ms/step - loss: 1.0488e-06 - accuracy: 1.0000 - val_loss: 1.9706e-06 - val_accuracy: 1.0000\n",
            "Epoch 31/50\n",
            "28/28 [==============================] - 8s 298ms/step - loss: 1.2385e-06 - accuracy: 1.0000 - val_loss: 1.6653e-06 - val_accuracy: 1.0000\n",
            "Epoch 32/50\n",
            "28/28 [==============================] - 8s 298ms/step - loss: 3.2690e-06 - accuracy: 1.0000 - val_loss: 1.3752e-06 - val_accuracy: 1.0000\n",
            "Epoch 33/50\n",
            "28/28 [==============================] - 8s 296ms/step - loss: 1.6668e-06 - accuracy: 1.0000 - val_loss: 1.2648e-06 - val_accuracy: 1.0000\n",
            "Epoch 34/50\n",
            "28/28 [==============================] - 8s 296ms/step - loss: 1.9341e-06 - accuracy: 1.0000 - val_loss: 1.3826e-06 - val_accuracy: 1.0000\n",
            "Epoch 35/50\n",
            "28/28 [==============================] - 8s 296ms/step - loss: 4.9402e-07 - accuracy: 1.0000 - val_loss: 1.5107e-06 - val_accuracy: 1.0000\n",
            "Epoch 36/50\n",
            "28/28 [==============================] - 8s 297ms/step - loss: 5.6077e-08 - accuracy: 1.0000 - val_loss: 1.4941e-06 - val_accuracy: 1.0000\n",
            "Epoch 37/50\n",
            "28/28 [==============================] - 8s 296ms/step - loss: 5.4387e-07 - accuracy: 1.0000 - val_loss: 1.6070e-06 - val_accuracy: 1.0000\n",
            "Epoch 38/50\n",
            "28/28 [==============================] - 8s 297ms/step - loss: 2.2213e-06 - accuracy: 1.0000 - val_loss: 1.6398e-06 - val_accuracy: 1.0000\n",
            "Epoch 39/50\n",
            "28/28 [==============================] - 8s 297ms/step - loss: 3.2401e-07 - accuracy: 1.0000 - val_loss: 1.5788e-06 - val_accuracy: 1.0000\n",
            "Epoch 40/50\n",
            "28/28 [==============================] - 8s 297ms/step - loss: 3.8663e-08 - accuracy: 1.0000 - val_loss: 1.5915e-06 - val_accuracy: 1.0000\n",
            "Epoch 41/50\n",
            "28/28 [==============================] - 8s 298ms/step - loss: 4.2243e-08 - accuracy: 1.0000 - val_loss: 1.5788e-06 - val_accuracy: 1.0000\n",
            "Epoch 42/50\n",
            "28/28 [==============================] - 8s 298ms/step - loss: 5.7679e-07 - accuracy: 1.0000 - val_loss: 1.6016e-06 - val_accuracy: 1.0000\n",
            "Epoch 43/50\n",
            "28/28 [==============================] - 8s 298ms/step - loss: 3.0309e-07 - accuracy: 1.0000 - val_loss: 1.5077e-06 - val_accuracy: 1.0000\n",
            "Epoch 44/50\n",
            "28/28 [==============================] - 8s 299ms/step - loss: 3.2817e-07 - accuracy: 1.0000 - val_loss: 1.5131e-06 - val_accuracy: 1.0000\n",
            "Epoch 45/50\n",
            "28/28 [==============================] - 8s 298ms/step - loss: 4.5077e-07 - accuracy: 1.0000 - val_loss: 1.5297e-06 - val_accuracy: 1.0000\n",
            "Epoch 46/50\n",
            "28/28 [==============================] - 8s 298ms/step - loss: 1.2148e-06 - accuracy: 1.0000 - val_loss: 1.6189e-06 - val_accuracy: 1.0000\n",
            "Epoch 47/50\n",
            "28/28 [==============================] - 8s 298ms/step - loss: 7.4518e-08 - accuracy: 1.0000 - val_loss: 1.7660e-06 - val_accuracy: 1.0000\n",
            "Epoch 48/50\n",
            "28/28 [==============================] - 8s 298ms/step - loss: 2.3674e-08 - accuracy: 1.0000 - val_loss: 1.7709e-06 - val_accuracy: 1.0000\n",
            "Epoch 49/50\n",
            "28/28 [==============================] - 8s 297ms/step - loss: 2.2862e-07 - accuracy: 1.0000 - val_loss: 1.7644e-06 - val_accuracy: 1.0000\n",
            "Epoch 50/50\n",
            "28/28 [==============================] - 8s 297ms/step - loss: 5.0731e-07 - accuracy: 1.0000 - val_loss: 1.7253e-06 - val_accuracy: 1.0000\n",
            "Done@2021-01-02T17Z\n",
            "Epoch 1/50\n",
            "28/28 [==============================] - 9s 304ms/step - loss: 0.0178 - accuracy: 0.9982 - val_loss: 0.0221 - val_accuracy: 0.9954\n",
            "Epoch 2/50\n",
            "28/28 [==============================] - 8s 297ms/step - loss: 0.0788 - accuracy: 0.9908 - val_loss: 0.0148 - val_accuracy: 0.9932\n",
            "Epoch 3/50\n",
            "28/28 [==============================] - 8s 297ms/step - loss: 0.0460 - accuracy: 0.9949 - val_loss: 5.2296e-06 - val_accuracy: 1.0000\n",
            "Epoch 4/50\n",
            "28/28 [==============================] - 8s 297ms/step - loss: 1.5169e-06 - accuracy: 1.0000 - val_loss: 8.7437e-08 - val_accuracy: 1.0000\n",
            "Epoch 5/50\n",
            "28/28 [==============================] - 8s 298ms/step - loss: 4.0491e-05 - accuracy: 1.0000 - val_loss: 6.2184e-08 - val_accuracy: 1.0000\n",
            "Epoch 6/50\n",
            "28/28 [==============================] - 8s 299ms/step - loss: 6.7426e-06 - accuracy: 1.0000 - val_loss: 5.2408e-08 - val_accuracy: 1.0000\n",
            "Epoch 7/50\n",
            "28/28 [==============================] - 8s 297ms/step - loss: 3.2602e-06 - accuracy: 1.0000 - val_loss: 5.9468e-08 - val_accuracy: 1.0000\n",
            "Epoch 8/50\n",
            "28/28 [==============================] - 8s 298ms/step - loss: 9.6487e-07 - accuracy: 1.0000 - val_loss: 6.0283e-08 - val_accuracy: 1.0000\n",
            "Epoch 9/50\n",
            "28/28 [==============================] - 8s 298ms/step - loss: 3.4765e-05 - accuracy: 1.0000 - val_loss: 5.3494e-08 - val_accuracy: 1.0000\n",
            "Epoch 10/50\n",
            "28/28 [==============================] - 8s 299ms/step - loss: 3.4408e-06 - accuracy: 1.0000 - val_loss: 4.8335e-08 - val_accuracy: 1.0000\n",
            "Epoch 11/50\n",
            "28/28 [==============================] - 8s 297ms/step - loss: 1.3448e-06 - accuracy: 1.0000 - val_loss: 3.7202e-08 - val_accuracy: 1.0000\n",
            "Epoch 12/50\n",
            "28/28 [==============================] - 8s 297ms/step - loss: 2.2064e-07 - accuracy: 1.0000 - val_loss: 3.3400e-08 - val_accuracy: 1.0000\n",
            "Epoch 13/50\n",
            "28/28 [==============================] - 8s 298ms/step - loss: 1.1782e-06 - accuracy: 1.0000 - val_loss: 3.3129e-08 - val_accuracy: 1.0000\n",
            "Epoch 14/50\n",
            "28/28 [==============================] - 8s 297ms/step - loss: 5.1583e-07 - accuracy: 1.0000 - val_loss: 3.3129e-08 - val_accuracy: 1.0000\n",
            "Epoch 15/50\n",
            "28/28 [==============================] - 8s 298ms/step - loss: 1.9941e-08 - accuracy: 1.0000 - val_loss: 3.3129e-08 - val_accuracy: 1.0000\n",
            "Epoch 16/50\n",
            "28/28 [==============================] - 8s 298ms/step - loss: 1.1029e-06 - accuracy: 1.0000 - val_loss: 3.0413e-08 - val_accuracy: 1.0000\n",
            "Epoch 17/50\n",
            "28/28 [==============================] - 8s 296ms/step - loss: 1.0742e-06 - accuracy: 1.0000 - val_loss: 2.9599e-08 - val_accuracy: 1.0000\n",
            "Epoch 18/50\n",
            "28/28 [==============================] - 8s 297ms/step - loss: 4.3372e-06 - accuracy: 1.0000 - val_loss: 2.9599e-08 - val_accuracy: 1.0000\n",
            "Epoch 19/50\n",
            "28/28 [==============================] - 8s 298ms/step - loss: 1.0243e-06 - accuracy: 1.0000 - val_loss: 2.9055e-08 - val_accuracy: 1.0000\n",
            "Epoch 20/50\n",
            "28/28 [==============================] - 8s 298ms/step - loss: 5.8657e-06 - accuracy: 1.0000 - val_loss: 2.0638e-08 - val_accuracy: 1.0000\n",
            "Epoch 21/50\n",
            "28/28 [==============================] - 8s 297ms/step - loss: 3.6396e-07 - accuracy: 1.0000 - val_loss: 1.9008e-08 - val_accuracy: 1.0000\n",
            "Epoch 22/50\n",
            "28/28 [==============================] - 8s 298ms/step - loss: 1.3041e-06 - accuracy: 1.0000 - val_loss: 1.8465e-08 - val_accuracy: 1.0000\n",
            "Epoch 23/50\n",
            "28/28 [==============================] - 8s 298ms/step - loss: 1.9496e-07 - accuracy: 1.0000 - val_loss: 1.8465e-08 - val_accuracy: 1.0000\n",
            "Epoch 24/50\n",
            "28/28 [==============================] - 8s 298ms/step - loss: 3.8715e-07 - accuracy: 1.0000 - val_loss: 1.8465e-08 - val_accuracy: 1.0000\n",
            "Epoch 25/50\n",
            "28/28 [==============================] - 8s 298ms/step - loss: 5.9269e-05 - accuracy: 1.0000 - val_loss: 1.8737e-08 - val_accuracy: 1.0000\n",
            "Epoch 26/50\n",
            "28/28 [==============================] - 8s 298ms/step - loss: 1.2873e-07 - accuracy: 1.0000 - val_loss: 1.8737e-08 - val_accuracy: 1.0000\n",
            "Epoch 27/50\n",
            "28/28 [==============================] - 8s 299ms/step - loss: 3.1918e-07 - accuracy: 1.0000 - val_loss: 1.8737e-08 - val_accuracy: 1.0000\n",
            "Epoch 28/50\n",
            "28/28 [==============================] - 8s 298ms/step - loss: 9.4064e-08 - accuracy: 1.0000 - val_loss: 1.8737e-08 - val_accuracy: 1.0000\n",
            "Epoch 29/50\n",
            "28/28 [==============================] - 8s 298ms/step - loss: 2.6677e-08 - accuracy: 1.0000 - val_loss: 1.8194e-08 - val_accuracy: 1.0000\n",
            "Epoch 30/50\n",
            "28/28 [==============================] - 8s 298ms/step - loss: 3.9457e-07 - accuracy: 1.0000 - val_loss: 1.7922e-08 - val_accuracy: 1.0000\n",
            "Epoch 31/50\n",
            "28/28 [==============================] - 8s 299ms/step - loss: 4.9760e-07 - accuracy: 1.0000 - val_loss: 1.7651e-08 - val_accuracy: 1.0000\n",
            "Epoch 32/50\n",
            "28/28 [==============================] - 8s 297ms/step - loss: 1.8744e-07 - accuracy: 1.0000 - val_loss: 1.7651e-08 - val_accuracy: 1.0000\n",
            "Epoch 33/50\n",
            "28/28 [==============================] - 8s 303ms/step - loss: 1.0492e-07 - accuracy: 1.0000 - val_loss: 1.7379e-08 - val_accuracy: 1.0000\n",
            "Epoch 34/50\n",
            "28/28 [==============================] - 8s 298ms/step - loss: 5.8915e-08 - accuracy: 1.0000 - val_loss: 1.6021e-08 - val_accuracy: 1.0000\n",
            "Epoch 35/50\n",
            "28/28 [==============================] - 8s 298ms/step - loss: 1.0978e-06 - accuracy: 1.0000 - val_loss: 1.5207e-08 - val_accuracy: 1.0000\n",
            "Epoch 36/50\n",
            "28/28 [==============================] - 8s 298ms/step - loss: 1.2429e-07 - accuracy: 1.0000 - val_loss: 1.1677e-08 - val_accuracy: 1.0000\n",
            "Epoch 37/50\n",
            "28/28 [==============================] - 8s 298ms/step - loss: 3.0620e-07 - accuracy: 1.0000 - val_loss: 1.1405e-08 - val_accuracy: 1.0000\n",
            "Epoch 38/50\n",
            "28/28 [==============================] - 8s 298ms/step - loss: 3.1477e-07 - accuracy: 1.0000 - val_loss: 1.1133e-08 - val_accuracy: 1.0000\n",
            "Epoch 39/50\n",
            "28/28 [==============================] - 8s 299ms/step - loss: 7.0173e-07 - accuracy: 1.0000 - val_loss: 1.1133e-08 - val_accuracy: 1.0000\n",
            "Epoch 40/50\n",
            "28/28 [==============================] - 8s 299ms/step - loss: 1.3838e-08 - accuracy: 1.0000 - val_loss: 1.1133e-08 - val_accuracy: 1.0000\n",
            "Epoch 41/50\n",
            "28/28 [==============================] - 8s 299ms/step - loss: 3.2727e-07 - accuracy: 1.0000 - val_loss: 1.0047e-08 - val_accuracy: 1.0000\n",
            "Epoch 42/50\n",
            "28/28 [==============================] - 8s 298ms/step - loss: 9.7589e-06 - accuracy: 1.0000 - val_loss: 9.5041e-09 - val_accuracy: 1.0000\n",
            "Epoch 43/50\n",
            "28/28 [==============================] - 8s 299ms/step - loss: 3.6033e-06 - accuracy: 1.0000 - val_loss: 8.4180e-09 - val_accuracy: 1.0000\n",
            "Epoch 44/50\n",
            "28/28 [==============================] - 8s 299ms/step - loss: 1.2770e-07 - accuracy: 1.0000 - val_loss: 1.5750e-08 - val_accuracy: 1.0000\n",
            "Epoch 45/50\n",
            "28/28 [==============================] - 8s 299ms/step - loss: 6.6112e-07 - accuracy: 1.0000 - val_loss: 1.9280e-08 - val_accuracy: 1.0000\n",
            "Epoch 46/50\n",
            "28/28 [==============================] - 8s 298ms/step - loss: 1.2364e-06 - accuracy: 1.0000 - val_loss: 1.7379e-08 - val_accuracy: 1.0000\n",
            "Epoch 47/50\n",
            "28/28 [==============================] - 8s 298ms/step - loss: 8.4793e-07 - accuracy: 1.0000 - val_loss: 1.7922e-08 - val_accuracy: 1.0000\n",
            "Epoch 48/50\n",
            "28/28 [==============================] - 8s 299ms/step - loss: 3.2907e-07 - accuracy: 1.0000 - val_loss: 1.7107e-08 - val_accuracy: 1.0000\n",
            "Epoch 49/50\n",
            "28/28 [==============================] - 8s 298ms/step - loss: 3.8344e-06 - accuracy: 1.0000 - val_loss: 1.4664e-08 - val_accuracy: 1.0000\n",
            "Epoch 50/50\n",
            "28/28 [==============================] - 8s 298ms/step - loss: 4.5036e-08 - accuracy: 1.0000 - val_loss: 1.3306e-08 - val_accuracy: 1.0000\n",
            "Done@2021-01-02T17Z\n"
          ],
          "name": "stdout"
        }
      ]
    },
    {
      "cell_type": "markdown",
      "metadata": {
        "id": "NOqSFaHtUH81"
      },
      "source": [
        "# Draw train loss, val loss"
      ]
    },
    {
      "cell_type": "markdown",
      "metadata": {
        "id": "-_ch69Qdqhje"
      },
      "source": [
        "## K-Fold's"
      ]
    },
    {
      "cell_type": "code",
      "metadata": {
        "id": "C53DkD-4pQ4l",
        "colab": {
          "base_uri": "https://localhost:8080/",
          "height": 1424
        },
        "outputId": "0c65e566-cd87-41ce-b04c-6f33ee0ceb4b"
      },
      "source": [
        "for i in range(5):\n",
        "  # retrieve:    \n",
        "  f_k = open(RootFolder + 'history/history_final' + str(i) + '.pckl', 'rb')\n",
        "  history_k = pickle.load(f_k)\n",
        "  f_k.close()\n",
        "  # plot\n",
        "  plt.plot(history_k['loss'])\n",
        "  plt.plot(history_k['val_loss'])\n",
        "  plt.title('model loss - fold ' + str(i))\n",
        "  plt.xlabel('epoch')\n",
        "  plt.ylabel('loss')\n",
        "  plt.legend(['train', 'val'], loc='upper left')\n",
        "  plt.show()\n",
        "print(\"Done@\" + datetime.datetime.now().strftime(\"%Y-%m-%dT%HZ\"))"
      ],
      "execution_count": 72,
      "outputs": [
        {
          "output_type": "display_data",
          "data": {
            "image/png": "[encoded data removed]",
            "text/plain": [
              "<Figure size 432x288 with 1 Axes>"
            ]
          },
          "metadata": {
            "tags": [],
            "needs_background": "light"
          }
        },
        {
          "output_type": "display_data",
          "data": {
            "image/png": "[encoded data removed]",
            "text/plain": [
              "<Figure size 432x288 with 1 Axes>"
            ]
          },
          "metadata": {
            "tags": [],
            "needs_background": "light"
          }
        },
        {
          "output_type": "display_data",
          "data": {
            "image/png": "[encoded data removed]",
            "text/plain": [
              "<Figure size 432x288 with 1 Axes>"
            ]
          },
          "metadata": {
            "tags": [],
            "needs_background": "light"
          }
        },
        {
          "output_type": "display_data",
          "data": {
            "image/png": "[encoded data removed]",
            "text/plain": [
              "<Figure size 432x288 with 1 Axes>"
            ]
          },
          "metadata": {
            "tags": [],
            "needs_background": "light"
          }
        },
        {
          "output_type": "display_data",
          "data": {
            "image/png": "[encoded data removed]",
            "text/plain": [
              "<Figure size 432x288 with 1 Axes>"
            ]
          },
          "metadata": {
            "tags": [],
            "needs_background": "light"
          }
        },
        {
          "output_type": "stream",
          "text": [
            "Done@2021-01-02T17Z\n"
          ],
          "name": "stdout"
        }
      ]
    },
    {
      "cell_type": "code",
      "metadata": {
        "id": "2bRgtXDVZDIS"
      },
      "source": [
        "f_0 = open(RootFolder + 'history/history_final0.pckl', 'rb')\n",
        "history_0 = pickle.load(f_0)\n",
        "f_0.close()\n",
        "f_1 = open(RootFolder + 'history/history_final1.pckl', 'rb')\n",
        "history_1 = pickle.load(f_1)\n",
        "f_1.close()\n",
        "f_2 = open(RootFolder + 'history/history_final2.pckl', 'rb')\n",
        "history_2 = pickle.load(f_2)\n",
        "f_2.close()\n",
        "f_3 = open(RootFolder + 'history/history_final3.pckl', 'rb')\n",
        "history_3 = pickle.load(f_3)\n",
        "f_3.close()\n",
        "f_4 = open(RootFolder + 'history/history_final4.pckl', 'rb')\n",
        "history_4 = pickle.load(f_4)\n",
        "f_4.close()"
      ],
      "execution_count": 73,
      "outputs": []
    },
    {
      "cell_type": "code",
      "metadata": {
        "colab": {
          "base_uri": "https://localhost:8080/",
          "height": 0
        },
        "id": "xL03s9Ck-yS9",
        "outputId": "2d527265-b291-48d8-c40e-bd9b26ed0c4c"
      },
      "source": [
        "print(np.array(history_0['loss']).flatten().shape)"
      ],
      "execution_count": 64,
      "outputs": [
        {
          "output_type": "stream",
          "text": [
            "(24,)\n"
          ],
          "name": "stdout"
        }
      ]
    },
    {
      "cell_type": "code",
      "metadata": {
        "id": "cAzUJK27ZDIT",
        "colab": {
          "base_uri": "https://localhost:8080/",
          "height": 313
        },
        "outputId": "6ff566ef-4b2c-4f10-bd7b-1dcebf4186ac"
      },
      "source": [
        "# plot loss line\n",
        "plt.plot((np.array(history_0['loss']) + np.array(history_1['loss']) + \\\n",
        "          np.array(history_2['loss']) + np.array(history_3['loss']) + \\\n",
        "          np.array(history_4['loss'])) / 4)\n",
        "plt.plot((np.array(history_0['val_loss']) + np.array(history_1['val_loss']) + \\\n",
        "          np.array(history_2['val_loss']) + np.array(history_3['val_loss']) + \\\n",
        "          np.array(history_4['val_loss'])) / 4)\n",
        "plt.title('model loss - fold')\n",
        "plt.xlabel('epoch')\n",
        "plt.ylabel('loss')\n",
        "plt.legend(['train', 'val'], loc='upper left')\n",
        "plt.show()\n",
        "print(\"Done@\" + datetime.datetime.now().strftime(\"%Y-%m-%dT%HZ\"))"
      ],
      "execution_count": 74,
      "outputs": [
        {
          "output_type": "display_data",
          "data": {
            "image/png": "[encoded data removed]",
            "text/plain": [
              "<Figure size 432x288 with 1 Axes>"
            ]
          },
          "metadata": {
            "tags": [],
            "needs_background": "light"
          }
        },
        {
          "output_type": "stream",
          "text": [
            "Done@2021-01-02T17Z\n"
          ],
          "name": "stdout"
        }
      ]
    },
    {
      "cell_type": "code",
      "metadata": {
        "id": "8xUCtqAGZDIT",
        "colab": {
          "base_uri": "https://localhost:8080/",
          "height": 313
        },
        "outputId": "d8c98476-5824-4793-e827-2b2e78efb561"
      },
      "source": [
        "# plot accuracy line\n",
        "plt.plot((np.array(history_0['accuracy']) + np.array(history_1['accuracy']) + np.array(history_2['accuracy']) + np.array(history_3['accuracy']) + np.array(history_4['accuracy'])) / 4)\n",
        "plt.plot((np.array(history_0['val_accuracy']) + np.array(history_1['val_accuracy']) + np.array(history_2['val_accuracy']) + np.array(history_3['val_accuracy']) + np.array(history_4['val_accuracy'])) / 4)\n",
        "plt.title('model accuracy - fold')\n",
        "plt.xlabel('epoch')\n",
        "plt.ylabel('accuracy')\n",
        "plt.legend(['train', 'val'], loc='upper left')\n",
        "plt.show()\n",
        "print(\"Done@\" + datetime.datetime.now().strftime(\"%Y-%m-%dT%HZ\"))"
      ],
      "execution_count": 75,
      "outputs": [
        {
          "output_type": "display_data",
          "data": {
            "image/png": "[encoded data removed]",
            "text/plain": [
              "<Figure size 432x288 with 1 Axes>"
            ]
          },
          "metadata": {
            "tags": [],
            "needs_background": "light"
          }
        },
        {
          "output_type": "stream",
          "text": [
            "Done@2021-01-02T17Z\n"
          ],
          "name": "stdout"
        }
      ]
    },
    {
      "cell_type": "markdown",
      "metadata": {
        "id": "ry4_MH5zjkHt"
      },
      "source": [
        "## Final Model"
      ]
    },
    {
      "cell_type": "code",
      "metadata": {
        "id": "FGwSKrmnUH81",
        "colab": {
          "base_uri": "https://localhost:8080/",
          "height": 0
        },
        "outputId": "b528cf65-add7-462a-f7f8-de079a548e83"
      },
      "source": [
        "# Final model\n",
        "early_stopping = EarlyStopping(monitor='accuracy',\n",
        "                               min_delta=0,\n",
        "                               patience=10,\n",
        "                               verbose=1,\n",
        "                               mode='auto',\n",
        "                               restore_best_weights=True)\n",
        "model.compile(optimizer='Adam', loss='categorical_crossentropy', metrics=['accuracy'])\n",
        "hist = model.fit(X_train, y_train, epochs=30, batch_size=64, verbose=1) # epoch cho nay tu chon\n",
        "# save history to file\n",
        "f = open(RootFolder + 'history/history_final.pckl', 'wb')\n",
        "pickle.dump(hist.history, f)\n",
        "f.close()\n",
        "print(\"Done@\" + datetime.datetime.now().strftime(\"%Y-%m-%dT%HZ\"))"
      ],
      "execution_count": 80,
      "outputs": [
        {
          "output_type": "stream",
          "text": [
            "Epoch 1/30\n",
            "35/35 [==============================] - 9s 228ms/step - loss: 0.0035 - accuracy: 0.9989\n",
            "Epoch 2/30\n",
            "35/35 [==============================] - 8s 231ms/step - loss: 0.0084 - accuracy: 0.9980\n",
            "Epoch 3/30\n",
            "35/35 [==============================] - 8s 236ms/step - loss: 0.0139 - accuracy: 0.9977\n",
            "Epoch 4/30\n",
            "35/35 [==============================] - 8s 239ms/step - loss: 0.0375 - accuracy: 0.9946\n",
            "Epoch 5/30\n",
            "35/35 [==============================] - 8s 240ms/step - loss: 0.0012 - accuracy: 0.9991\n",
            "Epoch 6/30\n",
            "35/35 [==============================] - 8s 240ms/step - loss: 4.6425e-05 - accuracy: 1.0000\n",
            "Epoch 7/30\n",
            "35/35 [==============================] - 8s 238ms/step - loss: 1.1111e-04 - accuracy: 1.0000\n",
            "Epoch 8/30\n",
            "35/35 [==============================] - 8s 235ms/step - loss: 1.0563e-05 - accuracy: 1.0000\n",
            "Epoch 9/30\n",
            "35/35 [==============================] - 8s 233ms/step - loss: 5.9517e-06 - accuracy: 1.0000\n",
            "Epoch 10/30\n",
            "35/35 [==============================] - 8s 232ms/step - loss: 9.6270e-07 - accuracy: 1.0000\n",
            "Epoch 11/30\n",
            "35/35 [==============================] - 8s 233ms/step - loss: 3.0382e-06 - accuracy: 1.0000\n",
            "Epoch 12/30\n",
            "35/35 [==============================] - 8s 233ms/step - loss: 2.2676e-06 - accuracy: 1.0000\n",
            "Epoch 13/30\n",
            "35/35 [==============================] - 8s 235ms/step - loss: 2.7936e-05 - accuracy: 1.0000\n",
            "Epoch 14/30\n",
            "35/35 [==============================] - 8s 236ms/step - loss: 5.6407e-07 - accuracy: 1.0000\n",
            "Epoch 15/30\n",
            "35/35 [==============================] - 8s 237ms/step - loss: 2.0936e-06 - accuracy: 1.0000\n",
            "Epoch 16/30\n",
            "35/35 [==============================] - 8s 238ms/step - loss: 1.2605e-07 - accuracy: 1.0000\n",
            "Epoch 17/30\n",
            "35/35 [==============================] - 8s 238ms/step - loss: 2.8147e-05 - accuracy: 1.0000\n",
            "Epoch 18/30\n",
            "35/35 [==============================] - 8s 237ms/step - loss: 1.3857e-07 - accuracy: 1.0000\n",
            "Epoch 19/30\n",
            "35/35 [==============================] - 8s 236ms/step - loss: 3.7797e-07 - accuracy: 1.0000\n",
            "Epoch 20/30\n",
            "35/35 [==============================] - 8s 234ms/step - loss: 5.0182e-07 - accuracy: 1.0000\n",
            "Epoch 21/30\n",
            "35/35 [==============================] - 8s 235ms/step - loss: 3.0168e-07 - accuracy: 1.0000\n",
            "Epoch 22/30\n",
            "35/35 [==============================] - 8s 235ms/step - loss: 1.2584e-07 - accuracy: 1.0000\n",
            "Epoch 23/30\n",
            "35/35 [==============================] - 8s 235ms/step - loss: 3.2518e-07 - accuracy: 1.0000\n",
            "Epoch 24/30\n",
            "35/35 [==============================] - 8s 236ms/step - loss: 6.1521e-08 - accuracy: 1.0000\n",
            "Epoch 25/30\n",
            "35/35 [==============================] - 8s 237ms/step - loss: 1.2045e-07 - accuracy: 1.0000\n",
            "Epoch 26/30\n",
            "35/35 [==============================] - 8s 237ms/step - loss: 1.6570e-06 - accuracy: 1.0000\n",
            "Epoch 27/30\n",
            "35/35 [==============================] - 8s 237ms/step - loss: 3.9497e-08 - accuracy: 1.0000\n",
            "Epoch 28/30\n",
            "35/35 [==============================] - 8s 237ms/step - loss: 1.8838e-04 - accuracy: 1.0000\n",
            "Epoch 29/30\n",
            "35/35 [==============================] - 8s 237ms/step - loss: 6.4946e-07 - accuracy: 1.0000\n",
            "Epoch 30/30\n",
            "35/35 [==============================] - 8s 235ms/step - loss: 6.7920e-09 - accuracy: 1.0000\n",
            "Done@2021-01-02T17Z\n"
          ],
          "name": "stdout"
        }
      ]
    },
    {
      "cell_type": "markdown",
      "metadata": {
        "id": "AMdlF0ZjqnqA"
      },
      "source": [
        "## Final Model's"
      ]
    },
    {
      "cell_type": "code",
      "metadata": {
        "id": "Zpd84RZuqwE2",
        "colab": {
          "base_uri": "https://localhost:8080/",
          "height": 313
        },
        "outputId": "73e52269-6f0d-4608-a14e-8d2bdda30b7a"
      },
      "source": [
        "  f = open(RootFolder + 'history/history_final.pckl', 'rb')\n",
        "  history = pickle.load(f)\n",
        "  f.close()\n",
        "  # plot\n",
        "  plt.plot(history['loss'])\n",
        "  # plt.plot(history['val_loss'])\n",
        "  plt.title('model loss - fold ')\n",
        "  plt.xlabel('epoch')\n",
        "  plt.ylabel('loss')\n",
        "  plt.legend(['train', 'val'], loc='upper left')\n",
        "  plt.show()\n",
        "  print(\"Done@\" + datetime.datetime.now().strftime(\"%Y-%m-%dT%HZ\"))"
      ],
      "execution_count": 81,
      "outputs": [
        {
          "output_type": "display_data",
          "data": {
            "image/png": "[encoded data removed]",
            "text/plain": [
              "<Figure size 432x288 with 1 Axes>"
            ]
          },
          "metadata": {
            "tags": [],
            "needs_background": "light"
          }
        },
        {
          "output_type": "stream",
          "text": [
            "Done@2021-01-02T17Z\n"
          ],
          "name": "stdout"
        }
      ]
    },
    {
      "cell_type": "markdown",
      "metadata": {
        "id": "1OWxUaoIq_6t"
      },
      "source": [
        "## Save final model"
      ]
    },
    {
      "cell_type": "code",
      "metadata": {
        "id": "-BlYCHOSUH82",
        "colab": {
          "base_uri": "https://localhost:8080/",
          "height": 0
        },
        "outputId": "c09bceca-7117-4179-df73-1a9aeed2bb67"
      },
      "source": [
        "# Luu model da train ra file\n",
        "import datetime\n",
        "model.save(RootFolder + 'models/mymodel_final.h5')\n",
        "print(\"Done@\" + datetime.datetime.now().strftime(\"%Y-%m-%dT%HZ\"))"
      ],
      "execution_count": 82,
      "outputs": [
        {
          "output_type": "stream",
          "text": [
            "Done@2021-01-02T17Z\n"
          ],
          "name": "stdout"
        }
      ]
    },
    {
      "cell_type": "markdown",
      "metadata": {
        "id": "mvBi1M0ArPSy"
      },
      "source": [
        "# Download file"
      ]
    },
    {
      "cell_type": "code",
      "metadata": {
        "id": "BFbyZAXWUH83"
      },
      "source": [
        "# download file tu colab ve\n",
        "if (USE_COLAB):\n",
        "    from google.colab import files\n",
        "    files.download(RootFolder + 'models/mymodel_final.h5')\n",
        "print(\"Done@\" + datetime.datetime.now().strftime(\"%Y-%m-%dT%HZ\"))"
      ],
      "execution_count": null,
      "outputs": []
    },
    {
      "cell_type": "code",
      "metadata": {
        "id": "hrYjknGScaHo"
      },
      "source": [
        "if (USE_COLAB):\n",
        "    from google.colab import files\n",
        "    for i in range(5):\n",
        "      files.download(RootFolder + 'history/history_final' + str(i) + '.pckl')  \n",
        "    files.download(RootFolder + 'history/history_final.pckl')\n",
        "print(\"Done@\" + datetime.datetime.now().strftime(\"%Y-%m-%dT%HZ\"))"
      ],
      "execution_count": null,
      "outputs": []
    },
    {
      "cell_type": "markdown",
      "metadata": {
        "id": "N0JWrrfuUH83"
      },
      "source": [
        "# Confusion Matrix"
      ]
    },
    {
      "cell_type": "code",
      "metadata": {
        "id": "EODv18cJUH84",
        "colab": {
          "base_uri": "https://localhost:8080/",
          "height": 0
        },
        "outputId": "e58aefb8-fdcb-45d4-a8d5-e9d7662d46f6"
      },
      "source": [
        "model_trained = load_model(RootFolder + 'models/mymodel_final.h5')\n",
        "print(\"Done@\" + datetime.datetime.now().strftime(\"%Y-%m-%dT%HZ\"))"
      ],
      "execution_count": 83,
      "outputs": [
        {
          "output_type": "stream",
          "text": [
            "Done@2021-01-02T17Z\n"
          ],
          "name": "stdout"
        }
      ]
    },
    {
      "cell_type": "code",
      "metadata": {
        "id": "mdFSPfUMUH84",
        "colab": {
          "base_uri": "https://localhost:8080/",
          "height": 0
        },
        "outputId": "8ef2c3da-57ba-4899-d6df-b78a0c74e157"
      },
      "source": [
        "y_pred = model_trained.predict(X_test)\n",
        "print(\"Done@\" + datetime.datetime.now().strftime(\"%Y-%m-%dT%HZ\"))"
      ],
      "execution_count": 84,
      "outputs": [
        {
          "output_type": "stream",
          "text": [
            "Done@2021-01-02T17Z\n"
          ],
          "name": "stdout"
        }
      ]
    },
    {
      "cell_type": "markdown",
      "metadata": {
        "id": "IINomQK8UH84"
      },
      "source": [
        "## Label y_pred and y_test"
      ]
    },
    {
      "cell_type": "code",
      "metadata": {
        "id": "TvDMreq5UH84",
        "colab": {
          "base_uri": "https://localhost:8080/",
          "height": 0
        },
        "outputId": "ef7d9878-ae4d-4675-ca5b-10fbdc26cd95"
      },
      "source": [
        "# labled y_pred\n",
        "print(y_pred.shape)\n",
        "y_pred_labelled = []\n",
        "for i in range(0, 550):\n",
        "    y_pred_labelled.append(gesture_names[np.argmax(y_pred[i])])\n",
        "print(\"Done@\" + datetime.datetime.now().strftime(\"%Y-%m-%dT%HZ\"))"
      ],
      "execution_count": 85,
      "outputs": [
        {
          "output_type": "stream",
          "text": [
            "(550, 5)\n",
            "Done@2021-01-02T17Z\n"
          ],
          "name": "stdout"
        }
      ]
    },
    {
      "cell_type": "code",
      "metadata": {
        "id": "RTmlVpN9UH84",
        "colab": {
          "base_uri": "https://localhost:8080/",
          "height": 0
        },
        "outputId": "c311b725-cd5a-4f82-b7e2-79ec56915472"
      },
      "source": [
        "# labled y_test\n",
        "print(y_test.shape)\n",
        "y_test_labelled = []\n",
        "for i in range(0, 550):\n",
        "    y_test_labelled.append(gesture_names[np.argmax(y_test[i])])\n",
        "import datetime\n",
        "print(\"Done@\" + datetime.datetime.now().strftime(\"%Y-%m-%dT%HZ\"))"
      ],
      "execution_count": 86,
      "outputs": [
        {
          "output_type": "stream",
          "text": [
            "(550, 5)\n",
            "Done@2021-01-02T17Z\n"
          ],
          "name": "stdout"
        }
      ]
    },
    {
      "cell_type": "markdown",
      "metadata": {
        "id": "Bv0nr1-SUH85"
      },
      "source": [
        "### Confusion Matrix for Multiple Classes\n",
        "\n",
        "\n",
        "Act Label\\Pred Label| E | L | F | V | B\n",
        "---:|:---:|:---:|:---:| ---\n",
        "**E** | Pee | Pel | Pef | Pev | Pev\n",
        "**L** | Ple | Pll | Plf | Plv | Plv\n",
        "**F** | Pfe | Pfl | Pff | Pfv | Pfv\n",
        "**V** | Pve | Pvl | Pvf | Pvv | Pvv\n",
        "**B** | Pbe | Pbl | Pbf | Pbv | Pbv"
      ]
    },
    {
      "cell_type": "code",
      "metadata": {
        "id": "b7hIW0QvUH85",
        "colab": {
          "base_uri": "https://localhost:8080/",
          "height": 0
        },
        "outputId": "5362bb9b-7496-47d0-f004-1172a50b9c17"
      },
      "source": [
        "conf_mat = confusion_matrix(y_test_labelled, y_pred_labelled, labels=[\"E\", \"L\", \"F\", \"V\", \"B\"])\n",
        "table = tabulate(conf_mat, headers=[\"E\", \"L\", \"F\", \"V\", \"B\"], tablefmt='fancy_grid')\n",
        "print(\"Confusion Matrix\")\n",
        "print(table)\n",
        "import datetime\n",
        "print(\"Done@\" + datetime.datetime.now().strftime(\"%Y-%m-%dT%HZ\"))"
      ],
      "execution_count": 87,
      "outputs": [
        {
          "output_type": "stream",
          "text": [
            "Confusion Matrix\n",
            "╒═════╤═════╤═════╤═════╤═════╕\n",
            "│   E │   L │   F │   V │   B │\n",
            "╞═════╪═════╪═════╪═════╪═════╡\n",
            "│ 110 │   0 │   0 │   0 │   0 │\n",
            "├─────┼─────┼─────┼─────┼─────┤\n",
            "│   1 │ 108 │   0 │   1 │   0 │\n",
            "├─────┼─────┼─────┼─────┼─────┤\n",
            "│   0 │   0 │ 110 │   0 │   0 │\n",
            "├─────┼─────┼─────┼─────┼─────┤\n",
            "│   0 │   0 │   0 │ 108 │   2 │\n",
            "├─────┼─────┼─────┼─────┼─────┤\n",
            "│   1 │   0 │   0 │   0 │ 109 │\n",
            "╘═════╧═════╧═════╧═════╧═════╛\n",
            "Done@2021-01-02T17Z\n"
          ],
          "name": "stdout"
        }
      ]
    },
    {
      "cell_type": "markdown",
      "metadata": {
        "id": "nCh0mDXCUH85"
      },
      "source": [
        "### Confusion Matrix for each Label\n",
        "Actual\\Predict| Pred Neg | Pred Pos\n",
        "---:|:---:| ---\n",
        "**Act Neg** | TN | FP\n",
        "**Act Pos** | FN | TP"
      ]
    },
    {
      "cell_type": "code",
      "metadata": {
        "id": "qvnY15YwUH85",
        "colab": {
          "base_uri": "https://localhost:8080/",
          "height": 0
        },
        "outputId": "0c3643a2-6625-4feb-9127-97bce19980f7"
      },
      "source": [
        "mul_conf_mat = multilabel_confusion_matrix(y_test_labelled, y_pred_labelled, labels=[\"E\", \"L\", \"F\", \"V\", \"B\"])\n",
        "table = tabulate(mul_conf_mat[0], tablefmt='fancy_grid')\n",
        "print(\"E\")\n",
        "print(table)\n",
        "table = tabulate(mul_conf_mat[1], tablefmt='fancy_grid')\n",
        "print(\"L\")\n",
        "print(table)\n",
        "table = tabulate(mul_conf_mat[2], tablefmt='fancy_grid')\n",
        "print(\"F\")\n",
        "print(table)\n",
        "table = tabulate(mul_conf_mat[3], tablefmt='fancy_grid')\n",
        "print(\"V\")\n",
        "print(table)\n",
        "table = tabulate(mul_conf_mat[4], tablefmt='fancy_grid')\n",
        "print(\"B\")\n",
        "print(table)\n",
        "import datetime\n",
        "print(\"Done@\" + datetime.datetime.now().strftime(\"%Y-%m-%dT%HZ\"))"
      ],
      "execution_count": 88,
      "outputs": [
        {
          "output_type": "stream",
          "text": [
            "E\n",
            "╒═════╤═════╕\n",
            "│ 438 │   2 │\n",
            "├─────┼─────┤\n",
            "│   0 │ 110 │\n",
            "╘═════╧═════╛\n",
            "L\n",
            "╒═════╤═════╕\n",
            "│ 440 │   0 │\n",
            "├─────┼─────┤\n",
            "│   2 │ 108 │\n",
            "╘═════╧═════╛\n",
            "F\n",
            "╒═════╤═════╕\n",
            "│ 440 │   0 │\n",
            "├─────┼─────┤\n",
            "│   0 │ 110 │\n",
            "╘═════╧═════╛\n",
            "V\n",
            "╒═════╤═════╕\n",
            "│ 439 │   1 │\n",
            "├─────┼─────┤\n",
            "│   2 │ 108 │\n",
            "╘═════╧═════╛\n",
            "B\n",
            "╒═════╤═════╕\n",
            "│ 438 │   2 │\n",
            "├─────┼─────┤\n",
            "│   1 │ 109 │\n",
            "╘═════╧═════╛\n",
            "Done@2021-01-02T17Z\n"
          ],
          "name": "stdout"
        }
      ]
    },
    {
      "cell_type": "code",
      "metadata": {
        "id": "ENFAOzAWUH86",
        "colab": {
          "base_uri": "https://localhost:8080/",
          "height": 0
        },
        "outputId": "beb36299-dd91-47fb-9bc9-4b77dc5a717a"
      },
      "source": [
        "from sklearn.metrics import accuracy_score\n",
        "accuracy_score(y_test_labelled, y_pred_labelled)"
      ],
      "execution_count": 89,
      "outputs": [
        {
          "output_type": "execute_result",
          "data": {
            "text/plain": [
              "0.990909090909091"
            ]
          },
          "metadata": {
            "tags": []
          },
          "execution_count": 89
        }
      ]
    },
    {
      "cell_type": "markdown",
      "metadata": {
        "id": "IYZFVyyUszzD"
      },
      "source": [
        "## Measure Accuracy base Confusion matrix"
      ]
    },
    {
      "cell_type": "code",
      "metadata": {
        "id": "zTz8NT3ZUH86",
        "colab": {
          "base_uri": "https://localhost:8080/",
          "height": 0
        },
        "outputId": "fd6a634a-bf86-4d1c-bdd9-c29a17e844db"
      },
      "source": [
        "np.sum(conf_mat)\n",
        "accur = (conf_mat[0,0] + conf_mat[1,1] + conf_mat[2,2] + conf_mat[3,3] + conf_mat[4,4]) / np.sum(conf_mat)\n",
        "print(accur)"
      ],
      "execution_count": 90,
      "outputs": [
        {
          "output_type": "stream",
          "text": [
            "0.990909090909091\n"
          ],
          "name": "stdout"
        }
      ]
    },
    {
      "cell_type": "code",
      "metadata": {
        "id": "ekG5lA2vZDIY"
      },
      "source": [
        "import tensorflow as tf\n",
        "from tensorflow import keras"
      ],
      "execution_count": 9,
      "outputs": []
    },
    {
      "cell_type": "code",
      "metadata": {
        "id": "W0U93IcbZDIY",
        "colab": {
          "base_uri": "https://localhost:8080/",
          "height": 0
        },
        "outputId": "b32e650b-953a-420a-d95e-ccb98e860497"
      },
      "source": [
        "print(\"Num GPUs Available: \", len(tf.config.experimental.list_physical_devices('GPU')))"
      ],
      "execution_count": 10,
      "outputs": [
        {
          "output_type": "stream",
          "text": [
            "Num GPUs Available:  1\n"
          ],
          "name": "stdout"
        }
      ]
    },
    {
      "cell_type": "code",
      "metadata": {
        "id": "Rnz29Mz6ZDIZ",
        "colab": {
          "base_uri": "https://localhost:8080/",
          "height": 0
        },
        "outputId": "219daa2d-e5fb-414c-b88d-fb117d2e617f"
      },
      "source": [
        "tf.test.is_built_with_cuda()"
      ],
      "execution_count": 11,
      "outputs": [
        {
          "output_type": "execute_result",
          "data": {
            "text/plain": [
              "True"
            ]
          },
          "metadata": {
            "tags": []
          },
          "execution_count": 11
        }
      ]
    },
    {
      "cell_type": "code",
      "metadata": {
        "id": "a7LzqcVtZDIZ",
        "colab": {
          "base_uri": "https://localhost:8080/",
          "height": 0
        },
        "outputId": "b9ce9cdc-b59e-4a88-d91e-c4b44c340d42"
      },
      "source": [
        "print(tf.version.VERSION)"
      ],
      "execution_count": 12,
      "outputs": [
        {
          "output_type": "stream",
          "text": [
            "2.4.0\n"
          ],
          "name": "stdout"
        }
      ]
    },
    {
      "cell_type": "code",
      "metadata": {
        "id": "13ZPQJYCZDIZ",
        "colab": {
          "base_uri": "https://localhost:8080/",
          "height": 35
        },
        "outputId": "93a9ec4b-05d1-4554-f95f-155f125d16da"
      },
      "source": [
        "import sys\n",
        "sys.version"
      ],
      "execution_count": 13,
      "outputs": [
        {
          "output_type": "execute_result",
          "data": {
            "application/vnd.google.colaboratory.intrinsic+json": {
              "type": "string"
            },
            "text/plain": [
              "'3.6.9 (default, Oct  8 2020, 12:12:24) \\n[GCC 8.4.0]'"
            ]
          },
          "metadata": {
            "tags": []
          },
          "execution_count": 13
        }
      ]
    },
    {
      "cell_type": "code",
      "metadata": {
        "id": "FMq0ktfnVWEA"
      },
      "source": [
        ""
      ],
      "execution_count": null,
      "outputs": []
    }
  ]
}